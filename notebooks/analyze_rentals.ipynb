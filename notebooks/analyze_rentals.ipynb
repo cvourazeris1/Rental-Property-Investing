{
 "cells": [
  {
   "cell_type": "code",
   "execution_count": 28,
   "metadata": {},
   "outputs": [
    {
     "data": {
      "text/plain": [
       "<module 'analysis.data' from 'C:\\\\Users\\\\Caleb Vourazeris\\\\Documents\\\\Code\\\\Python\\\\RealEstate\\\\property_analysis-project\\\\analysis\\\\data.py'>"
      ]
     },
     "execution_count": 28,
     "metadata": {},
     "output_type": "execute_result"
    }
   ],
   "source": [
    "from analysis import monthly_expenses\n",
    "from analysis import project_costs\n",
    "from analysis import data\n",
    "\n",
    "import importlib\n",
    "import pandas as pd\n",
    "\n",
    "importlib.reload(monthly_expenses)\n",
    "importlib.reload(project_costs)\n",
    "importlib.reload(data)"
   ]
  },
  {
   "cell_type": "code",
   "execution_count": 29,
   "metadata": {},
   "outputs": [],
   "source": [
    "home_dict = data.create_home_dict(home_price=120000, monthly_rent=2000, down_payment_percent=0.035, annual_interest_rate=0.0689, loan_term=30, num_bathrooms=2, home_sqft=2000)"
   ]
  },
  {
   "cell_type": "code",
   "execution_count": 30,
   "metadata": {},
   "outputs": [],
   "source": [
    "monthly_expenses_dict = monthly_expenses.create_expense_dict(home_dict=home_dict)"
   ]
  },
  {
   "cell_type": "code",
   "execution_count": 31,
   "metadata": {},
   "outputs": [],
   "source": [
    "estimated_repairs_dict = project_costs.create_estimated_repairs_cost_dict(home_dict)"
   ]
  },
  {
   "cell_type": "code",
   "execution_count": 32,
   "metadata": {},
   "outputs": [
    {
     "name": "stdout",
     "output_type": "stream",
     "text": [
      "{'Mortgage': -761.8845601690047, 'Taxes': -205.0, 'Insurance': -250, 'Flood Insurance': 0, 'Vacancy': -100.0, 'Repairs': -100.0, 'Capital Expenditures': -200.0, 'Water': 0, 'Sewer': 0, 'Gargabe': 0, 'Gas': 0, 'Electricity': 0, 'HOA fees': 0, 'Snow removal': 0, 'Lawn care': 0, 'Property management': -220.0}\n",
      "{'Kitchen Remodel': -40000.0, 'Bathroom Remodel': -24000}\n"
     ]
    }
   ],
   "source": [
    "print(monthly_expenses_dict)\n",
    "print(estimated_repairs_dict)"
   ]
  },
  {
   "cell_type": "code",
   "execution_count": 33,
   "metadata": {},
   "outputs": [
    {
     "data": {
      "text/html": [
       "<div>\n",
       "<style scoped>\n",
       "    .dataframe tbody tr th:only-of-type {\n",
       "        vertical-align: middle;\n",
       "    }\n",
       "\n",
       "    .dataframe tbody tr th {\n",
       "        vertical-align: top;\n",
       "    }\n",
       "\n",
       "    .dataframe thead th {\n",
       "        text-align: right;\n",
       "    }\n",
       "</style>\n",
       "<table border=\"1\" class=\"dataframe\">\n",
       "  <thead>\n",
       "    <tr style=\"text-align: right;\">\n",
       "      <th></th>\n",
       "      <th>Mortgage</th>\n",
       "      <th>Taxes</th>\n",
       "      <th>Insurance</th>\n",
       "      <th>Flood Insurance</th>\n",
       "      <th>Vacancy</th>\n",
       "      <th>Repairs</th>\n",
       "      <th>Capital Expenditures</th>\n",
       "      <th>Water</th>\n",
       "      <th>Sewer</th>\n",
       "      <th>Gargabe</th>\n",
       "      <th>Gas</th>\n",
       "      <th>Electricity</th>\n",
       "      <th>HOA fees</th>\n",
       "      <th>Snow removal</th>\n",
       "      <th>Lawn care</th>\n",
       "      <th>Property management</th>\n",
       "    </tr>\n",
       "  </thead>\n",
       "  <tbody>\n",
       "    <tr>\n",
       "      <th>0</th>\n",
       "      <td>-761.88456</td>\n",
       "      <td>-205.0</td>\n",
       "      <td>-250</td>\n",
       "      <td>0</td>\n",
       "      <td>-100.0</td>\n",
       "      <td>-100.0</td>\n",
       "      <td>-200.0</td>\n",
       "      <td>0</td>\n",
       "      <td>0</td>\n",
       "      <td>0</td>\n",
       "      <td>0</td>\n",
       "      <td>0</td>\n",
       "      <td>0</td>\n",
       "      <td>0</td>\n",
       "      <td>0</td>\n",
       "      <td>-220.0</td>\n",
       "    </tr>\n",
       "  </tbody>\n",
       "</table>\n",
       "</div>"
      ],
      "text/plain": [
       "    Mortgage  Taxes  Insurance  Flood Insurance  Vacancy  Repairs  \\\n",
       "0 -761.88456 -205.0       -250                0   -100.0   -100.0   \n",
       "\n",
       "   Capital Expenditures  Water  Sewer  Gargabe  Gas  Electricity  HOA fees  \\\n",
       "0                -200.0      0      0        0    0            0         0   \n",
       "\n",
       "   Snow removal  Lawn care  Property management  \n",
       "0             0          0               -220.0  "
      ]
     },
     "execution_count": 33,
     "metadata": {},
     "output_type": "execute_result"
    }
   ],
   "source": [
    "expenses_df = pd.DataFrame(monthly_expenses_dict, index=[0])\n",
    "expenses_df.head()\n"
   ]
  },
  {
   "cell_type": "code",
   "execution_count": null,
   "metadata": {},
   "outputs": [],
   "source": []
  }
 ],
 "metadata": {
  "kernelspec": {
   "display_name": "venv",
   "language": "python",
   "name": "python3"
  },
  "language_info": {
   "codemirror_mode": {
    "name": "ipython",
    "version": 3
   },
   "file_extension": ".py",
   "mimetype": "text/x-python",
   "name": "python",
   "nbconvert_exporter": "python",
   "pygments_lexer": "ipython3",
   "version": "3.13.1"
  }
 },
 "nbformat": 4,
 "nbformat_minor": 2
}
