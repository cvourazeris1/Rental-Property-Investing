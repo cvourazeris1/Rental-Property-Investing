{
 "cells": [
  {
   "cell_type": "code",
   "execution_count": 31,
   "metadata": {},
   "outputs": [
    {
     "data": {
      "text/plain": [
       "<module 'analysis.rental_analysis' from 'C:\\\\Users\\\\Caleb Vourazeris\\\\Documents\\\\Code\\\\Python\\\\RealEstate\\\\property_analysis-project\\\\analysis\\\\rental_analysis.py'>"
      ]
     },
     "execution_count": 31,
     "metadata": {},
     "output_type": "execute_result"
    }
   ],
   "source": [
    "from analysis import rental_analysis\n",
    "\n",
    "import importlib\n",
    "import pandas as pd\n",
    "\n",
    "importlib.reload(rental_analysis)"
   ]
  },
  {
   "cell_type": "code",
   "execution_count": 32,
   "metadata": {},
   "outputs": [],
   "source": [
    "home_dict = rental_analysis.create_home_dict(home_price=275000, down_payment_percent=0.035, annual_interest_rate=0.0689, loan_term=30, monthly_rent=2186, year_built=1950, home_location=78249, sqft=1842)"
   ]
  },
  {
   "cell_type": "code",
   "execution_count": 33,
   "metadata": {},
   "outputs": [
    {
     "name": "stdout",
     "output_type": "stream",
     "text": [
      "{'Rent': 2186, 'Mortgage': -1745.9854503873023, 'Taxes': -469.7916666666667, 'Insurance': -250, 'Flood Insurance': 0, 'Vacancy': -109.30000000000001, 'Repairs': -109.30000000000001, 'Capital Expenditures': -218.60000000000002, 'Water': 0, 'Sewer': 0, 'Gargabe': 0, 'Gas': 0, 'Electricity': 0, 'HOA fees': 0, 'Snow removal': 0, 'Lawn care': 0, 'Property management': -240.46, 'Cashflow': -957.437117053969}\n"
     ]
    }
   ],
   "source": [
    "print(home_dict)"
   ]
  },
  {
   "cell_type": "code",
   "execution_count": 34,
   "metadata": {},
   "outputs": [
    {
     "data": {
      "text/html": [
       "<div>\n",
       "<style scoped>\n",
       "    .dataframe tbody tr th:only-of-type {\n",
       "        vertical-align: middle;\n",
       "    }\n",
       "\n",
       "    .dataframe tbody tr th {\n",
       "        vertical-align: top;\n",
       "    }\n",
       "\n",
       "    .dataframe thead th {\n",
       "        text-align: right;\n",
       "    }\n",
       "</style>\n",
       "<table border=\"1\" class=\"dataframe\">\n",
       "  <thead>\n",
       "    <tr style=\"text-align: right;\">\n",
       "      <th></th>\n",
       "      <th>Rent</th>\n",
       "      <th>Mortgage</th>\n",
       "      <th>Taxes</th>\n",
       "      <th>Insurance</th>\n",
       "      <th>Flood Insurance</th>\n",
       "      <th>Vacancy</th>\n",
       "      <th>Repairs</th>\n",
       "      <th>Capital Expenditures</th>\n",
       "      <th>Water</th>\n",
       "      <th>Sewer</th>\n",
       "      <th>Gargabe</th>\n",
       "      <th>Gas</th>\n",
       "      <th>Electricity</th>\n",
       "      <th>HOA fees</th>\n",
       "      <th>Snow removal</th>\n",
       "      <th>Lawn care</th>\n",
       "      <th>Property management</th>\n",
       "      <th>Cashflow</th>\n",
       "    </tr>\n",
       "  </thead>\n",
       "  <tbody>\n",
       "    <tr>\n",
       "      <th>0</th>\n",
       "      <td>2186</td>\n",
       "      <td>-1745.98545</td>\n",
       "      <td>-469.791667</td>\n",
       "      <td>-250</td>\n",
       "      <td>0</td>\n",
       "      <td>-109.3</td>\n",
       "      <td>-109.3</td>\n",
       "      <td>-218.6</td>\n",
       "      <td>0</td>\n",
       "      <td>0</td>\n",
       "      <td>0</td>\n",
       "      <td>0</td>\n",
       "      <td>0</td>\n",
       "      <td>0</td>\n",
       "      <td>0</td>\n",
       "      <td>0</td>\n",
       "      <td>-240.46</td>\n",
       "      <td>-957.437117</td>\n",
       "    </tr>\n",
       "  </tbody>\n",
       "</table>\n",
       "</div>"
      ],
      "text/plain": [
       "   Rent    Mortgage       Taxes  Insurance  Flood Insurance  Vacancy  Repairs  \\\n",
       "0  2186 -1745.98545 -469.791667       -250                0   -109.3   -109.3   \n",
       "\n",
       "   Capital Expenditures  Water  Sewer  Gargabe  Gas  Electricity  HOA fees  \\\n",
       "0                -218.6      0      0        0    0            0         0   \n",
       "\n",
       "   Snow removal  Lawn care  Property management    Cashflow  \n",
       "0             0          0              -240.46 -957.437117  "
      ]
     },
     "execution_count": 34,
     "metadata": {},
     "output_type": "execute_result"
    }
   ],
   "source": [
    "home_df = pd.DataFrame(home_dict, index=[0])\n",
    "home_df.head()\n"
   ]
  },
  {
   "cell_type": "code",
   "execution_count": null,
   "metadata": {},
   "outputs": [],
   "source": []
  }
 ],
 "metadata": {
  "kernelspec": {
   "display_name": "venv",
   "language": "python",
   "name": "python3"
  },
  "language_info": {
   "codemirror_mode": {
    "name": "ipython",
    "version": 3
   },
   "file_extension": ".py",
   "mimetype": "text/x-python",
   "name": "python",
   "nbconvert_exporter": "python",
   "pygments_lexer": "ipython3",
   "version": "3.13.1"
  }
 },
 "nbformat": 4,
 "nbformat_minor": 2
}
